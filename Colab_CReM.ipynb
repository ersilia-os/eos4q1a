{
  "cells": [
    {
      "cell_type": "code",
      "execution_count": null,
      "metadata": {
        "id": "gJr_9dXGpJ05"
      },
      "outputs": [],
      "source": [
        "#@title 🏃‍♀️ Install Ersilia on Colab\n",
        "\n",
        "\n",
        "%%capture\n",
        "%env MINICONDA_INSTALLER_SCRIPT=Miniconda3-py37_4.12.0-Linux-x86_64.sh\n",
        "%env MINICONDA_PREFIX=/usr/local\n",
        "%env PYTHONPATH= \"$PYTHONPATH:/usr/local/lib/python3.7/site-packages\"\n",
        "%env PIP_ROOT_USER_ACTION=ignore\n",
        "\n",
        "!wget https://repo.anaconda.com/miniconda/$MINICONDA_INSTALLER_SCRIPT\n",
        "!chmod +x $MINICONDA_INSTALLER_SCRIPT\n",
        "!./$MINICONDA_INSTALLER_SCRIPT -b -f -p $MINICONDA_PREFIX\n",
        "\n",
        "!python -m pip install git+https://github.com/ersilia-os/ersilia.git\n",
        "!python -m pip install requests --upgrade\n",
        "import sys\n",
        "_ = (sys.path.append(\"/usr/local/lib/python3.7/site-packages\"))"
      ]
    },
    {
      "cell_type": "code",
      "execution_count": null,
      "metadata": {
        "id": "C4HZx7Gndbrh"
      },
      "outputs": [],
      "source": [
        "#@title 🔗 Connect Colab to your Google Drive\n",
        "\n",
        "## Mount google drive\n",
        "from google.colab import drive\n",
        "drive.mount('/content/drive')\n",
        "\n",
        "## Click on the folder/directory icon to the left \n",
        "##      and make sure your drive is mounted"
      ]
    },
    {
      "cell_type": "markdown",
      "metadata": {
        "id": "4_kCnsPUqS6o"
      },
      "source": [
        "<div class=\"markdown-google-sans\">\n",
        "\n",
        "### 📩 Specify your file paths and the input .csv file\n",
        "</div>\n",
        "\n",
        "<div>\n",
        "\n",
        "*  Make sure you have a .csv file containing a list of molecules represented as SMILES string\n",
        "* Specify the exact column name of your smiles column in the .csv file\n",
        "*  Specify the path to your file in Google Drive\n",
        "*  Specify the path where you want to store the results in Google Drive \n",
        "\n",
        "</div> "
      ]
    },
    {
      "cell_type": "code",
      "execution_count": null,
      "metadata": {
        "id": "7pKQI_LTPa1G"
      },
      "outputs": [],
      "source": [
        "#specify your input folder\n",
        "\n",
        "input_folder=\"/content/drive/MyDrive/Ersilia\" #@param {type:\"string\"}"
      ]
    },
    {
      "cell_type": "code",
      "execution_count": null,
      "metadata": {
        "id": "2r13dGXgLxKF"
      },
      "outputs": [],
      "source": [
        "#specify your output folder\n",
        "\n",
        "output_folder=\"/content/drive/MyDrive/Ersilia\" #@param {type:\"string\"}"
      ]
    },
    {
      "cell_type": "code",
      "execution_count": null,
      "metadata": {
        "id": "ywqZyGWnP4Ef"
      },
      "outputs": [],
      "source": [
        "#specify the name of your input csv file\n",
        "\n",
        "input_filename =\"input_file\" #@param {type:\"string\"}"
      ]
    },
    {
      "cell_type": "code",
      "execution_count": null,
      "metadata": {
        "id": "WW16pY7-xLOV"
      },
      "outputs": [],
      "source": [
        "#specify the SMILES column name\n",
        "smiles_column = \"smiles_column\" #@param {type:\"string\"}\n",
        "\n",
        "\n"
      ]
    },
    {
      "cell_type": "code",
      "execution_count": null,
      "metadata": {
        "id": "JdoU9sr6D4su"
      },
      "outputs": [],
      "source": [
        "#@title 🔤 Extract SMILES to a list\n",
        "import pandas as pd\n",
        "\n",
        "path = \"%s/%s.csv\" % (input_folder,input_filename)\n",
        "smi_col = \"%s\" % smiles_column\n",
        "df = pd.read_csv(path)\n",
        "smiles = df[smi_col].tolist()\n",
        "\n",
        "print(\"My dataset contains\"+\" \"+ str(len(smiles))+\" \"+ \"SMILES\")"
      ]
    },
    {
      "cell_type": "markdown",
      "metadata": {
        "id": "OwuxHmxllTwN"
      },
      "source": [
        "<div class=\"markdown-google-sans\">\n",
        "\n",
        "#### 🚀 Use the Ersilia Model Hub to run predictions for your molecules. Check all available models [here](https://ersilia.io/model-hub)\n",
        "</div>\n",
        "\n",
        "1. Enter the model name\n",
        "2. Fetch models\n",
        "3. Make predictions or calculations\n",
        "4. Save the result to a .csv file in your google drive."
      ]
    },
    {
      "cell_type": "code",
      "execution_count": null,
      "metadata": {
        "id": "5xqTcuegSyQF"
      },
      "outputs": [],
      "source": [
        "# Enter the model name\n",
        "# This is just an example, make sure to adapt it to your specific model \n",
        "\n",
        "model_name = \"eos4q1a\" #@param {type:\"string\"}"
      ]
    },
    {
      "cell_type": "code",
      "execution_count": null,
      "metadata": {
        "id": "mWRZdAMkmgxZ"
      },
      "outputs": [],
      "source": [
        "#@title 📥 Fetch the model\n",
        "\n",
        "!ersilia -v fetch $model_name"
      ]
    },
    {
      "cell_type": "code",
      "execution_count": null,
      "metadata": {
        "id": "uYsEZpQ1gN8x"
      },
      "outputs": [],
      "source": [
        "#@title ⚙️ Serve the model\n",
        "\n",
        "# returns available APIs (calculate or predict)\n",
        "\n",
        "!ersilia serve $model_name"
      ]
    },
    {
      "cell_type": "code",
      "execution_count": null,
      "metadata": {
        "colab": {
          "background_save": true
        },
        "id": "TYmcRRZ4mnkx"
      },
      "outputs": [],
      "source": [
        "#@title ⚡ Run predictions\n",
        "api = \"generate\" #@param {type:\"string\"}\n",
        "\n",
        "from ersilia import ErsiliaModel\n",
        "import time\n",
        "\n",
        "model = ErsiliaModel(model_name)\n",
        "begin = time.time()\n",
        "output = model.api(input=smiles, output=\"pandas\")\n",
        "end = time.time()\n",
        "\n",
        "print('Successful 👍! Time taken:', round((end - begin),2),'seconds')\n",
        "model.close()"
      ]
    },
    {
      "cell_type": "code",
      "execution_count": null,
      "metadata": {
        "colab": {
          "background_save": true
        },
        "id": "ipckLYxPS3GY"
      },
      "outputs": [],
      "source": [
        "#@title ✔️ Check your results\n",
        "\n",
        "print(output.head())\n",
        "print(output.shape)"
      ]
    }
  ],
  "metadata": {
    "colab": {
      "collapsed_sections": [
        "GJBs_flRovLc",
        "UdRyKR44dcNI"
      ],
      "provenance": []
    },
    "kernelspec": {
      "display_name": "Python 3",
      "name": "python3"
    }
  },
  "nbformat": 4,
  "nbformat_minor": 0
}